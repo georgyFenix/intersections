{
 "cells": [
  {
   "cell_type": "code",
   "execution_count": null,
   "metadata": {},
   "outputs": [],
   "source": [
    "#Генерация коэффициентов\n",
    "\n",
    "def coefficient_gen(a_m):\n",
    "    if a_m % 2 == 1:\n",
    "        m = a_m**2\n",
    "        c = a_m-1\n",
    "        \n",
    "    elif a_m % 2 == 0 and a_m % 4 == 0:\n",
    "        m = a_m**2\n",
    "        c = a_m-1\n",
    "        \n",
    "    else:\n",
    "        \n",
    "        m = round(a_m**2/2)\n",
    "        c = a_m-1\n",
    "        \n",
    "        \n",
    "    return (a_m+1, c, m)"
   ]
  },
  {
   "cell_type": "code",
   "execution_count": null,
   "metadata": {},
   "outputs": [],
   "source": [
    "#генерация массива псевдослучайных чисел заданного размера\n",
    "\n",
    "#Georgy Yashin, ifi@yandex.ru\n",
    "#28.08.2017\n",
    "\n",
    "\n",
    "import math\n",
    "import time\n",
    "\n",
    "\n",
    "def lcg(seed,size,a,c,m):\n",
    "    if size==1:\n",
    "        return math.ceil(math.fmod(a*math.ceil(seed)+c,m))\n",
    "    r=[0 for i in range(size)]\n",
    "    r[0]=math.ceil(seed)\n",
    "    for i in range(1,size):\n",
    "        r[i]=math.ceil(math.fmod((a*r[i-1]+c),m))\n",
    "    return r[1:size]\n",
    "\n",
    "\n"
   ]
  },
  {
   "cell_type": "code",
   "execution_count": null,
   "metadata": {},
   "outputs": [],
   "source": [
    "#b = a-1 is sqrt of period or halfed one\n",
    "#x = |A|+|B|\n",
    "#y = |A|/|B|\n",
    "#i2u is intersection volume to union volume\n",
    "\n",
    "def generate(seed, b, i2u, y): \n",
    "    a, c, m =  coefficient_gen(b)\n",
    "    i = int(round(i2u*m))\n",
    "    proportion = (m*y-i)/(m-i*y)\n",
    "    #print(m, i)\n",
    "    uniSet = lcg(seed,m+i,a,c,m)\n",
    "    set1 = uniSet[0:i-1]\n",
    "    set2 = []\n",
    "    non_intersected = uniSet[i-1:-i+1]\n",
    "    random.shuffle(non_intersected)\n",
    "    \n",
    "    siA = round(len(non_intersected)*proportion)\n",
    "    for i in non_intersected[:siA]:\n",
    "        set1 += [i]\n",
    "    for i in non_intersected[siA:]:\n",
    "        set2 += [i]\n",
    "    for i in uniSet[m:]:\n",
    "        set2 += [i]\n",
    "        \n",
    "        \n",
    "    random.shuffle(set1)\n",
    "    random.shuffle(set2)\n",
    "    \n",
    "    \n",
    "    return uniSet, set1, set2\n",
    " "
   ]
  },
  {
   "cell_type": "code",
   "execution_count": null,
   "metadata": {},
   "outputs": [],
   "source": [
    "def save_toFile(data, filename = \"set1.txt\"):\n",
    "    f = open(filename, 'w')\n",
    "    for i in data:\n",
    "        f.write(str(i) + '\\n')\n",
    "    f.close()"
   ]
  },
  {
   "cell_type": "code",
   "execution_count": null,
   "metadata": {},
   "outputs": [],
   "source": [
    "save_toFile(s1, \"set1.txt\")\n",
    "save_toFile()"
   ]
  }
 ],
 "metadata": {
  "kernelspec": {
   "display_name": "Python 3",
   "language": "python",
   "name": "python3"
  },
  "language_info": {
   "codemirror_mode": {
    "name": "ipython",
    "version": 3
   },
   "file_extension": ".py",
   "mimetype": "text/x-python",
   "name": "python",
   "nbconvert_exporter": "python",
   "pygments_lexer": "ipython3",
   "version": "3.8.5"
  }
 },
 "nbformat": 4,
 "nbformat_minor": 4
}
